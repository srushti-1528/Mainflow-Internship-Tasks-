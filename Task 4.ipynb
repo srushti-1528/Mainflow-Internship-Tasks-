{
 "cells": [
  {
   "cell_type": "code",
   "execution_count": 1,
   "id": "103d8ac5-8d11-44bc-9147-f21ff8efb2e8",
   "metadata": {},
   "outputs": [],
   "source": [
    "# Importing necessary libraries\n",
    "\n",
    "import pandas as pd \n",
    "import numpy as np\n",
    "import matplotlib.pyplot as plt \n",
    "import seaborn as sns\n",
    "from sklearn.model_selection import train_test_split\n",
    "from sklearn.linear_model import LinearRegression\n",
    "from sklearn.metrics import mean_squared_error, r2_score"
   ]
  },
  {
   "cell_type": "code",
   "execution_count": null,
   "id": "2bb28937-fe95-4417-baa2-a59920cdfa94",
   "metadata": {},
   "outputs": [],
   "source": [
    "# Load the dataset\n",
    "data = pd.read_csv('house_prices.csv')\n",
    "print(\"First 5 rows of the dataset:\")\n",
    "print(data.head())\n",
    "\n",
    "# Dataset Info\n",
    "print(\"\\nDataset Information:\")\n",
    "print(data.info())\n",
    "\n",
    "# Checking for missing values\n",
    "print(\"\\nMissing Values:\")\n",
    "print(data.isnull().sum())\n",
    "\n",
    "# Fill missing values \n",
    "data['Size'].fillna(data['Size'].median(), inplace=True)\n",
    "data['Number of Rooms'].fillna(data['Number of Rooms'].median(), inplace=True)\n",
    "\n",
    "# Handling outliers\n",
    "upper_limit = data['Price'].quantile(0.95)\n",
    "data['Price'] = np.where(data['Price']> upper_limit, upper_limit, data['Price'])\n",
    "\n",
    "# Encoding the 'Location' using "
   ]
  }
 ],
 "metadata": {
  "kernelspec": {
   "display_name": "Python [conda env:base] *",
   "language": "python",
   "name": "conda-base-py"
  },
  "language_info": {
   "codemirror_mode": {
    "name": "ipython",
    "version": 3
   },
   "file_extension": ".py",
   "mimetype": "text/x-python",
   "name": "python",
   "nbconvert_exporter": "python",
   "pygments_lexer": "ipython3",
   "version": "3.12.7"
  }
 },
 "nbformat": 4,
 "nbformat_minor": 5
}
